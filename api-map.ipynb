{
 "cells": [
  {
   "cell_type": "code",
   "execution_count": 1,
   "id": "dbf53e12",
   "metadata": {},
   "outputs": [
    {
     "name": "stdout",
     "output_type": "stream",
     "text": [
      "Defaulting to user installation because normal site-packages is not writeable\n",
      "Requirement already satisfied: requests in c:\\users\\user\\appdata\\roaming\\python\\python313\\site-packages (2.32.3)\n",
      "Requirement already satisfied: pandas in c:\\users\\user\\appdata\\roaming\\python\\python313\\site-packages (2.2.3)\n",
      "Requirement already satisfied: charset-normalizer<4,>=2 in c:\\users\\user\\appdata\\roaming\\python\\python313\\site-packages (from requests) (3.4.2)\n",
      "Requirement already satisfied: idna<4,>=2.5 in c:\\users\\user\\appdata\\roaming\\python\\python313\\site-packages (from requests) (3.10)\n",
      "Requirement already satisfied: urllib3<3,>=1.21.1 in c:\\users\\user\\appdata\\roaming\\python\\python313\\site-packages (from requests) (2.4.0)\n",
      "Requirement already satisfied: certifi>=2017.4.17 in c:\\users\\user\\appdata\\roaming\\python\\python313\\site-packages (from requests) (2025.4.26)\n",
      "Requirement already satisfied: numpy>=1.26.0 in c:\\users\\user\\appdata\\roaming\\python\\python313\\site-packages (from pandas) (2.2.6)\n",
      "Requirement already satisfied: python-dateutil>=2.8.2 in c:\\users\\user\\appdata\\roaming\\python\\python313\\site-packages (from pandas) (2.9.0.post0)\n",
      "Requirement already satisfied: pytz>=2020.1 in c:\\users\\user\\appdata\\roaming\\python\\python313\\site-packages (from pandas) (2025.2)\n",
      "Requirement already satisfied: tzdata>=2022.7 in c:\\users\\user\\appdata\\roaming\\python\\python313\\site-packages (from pandas) (2025.2)\n",
      "Requirement already satisfied: six>=1.5 in c:\\users\\user\\appdata\\roaming\\python\\python313\\site-packages (from python-dateutil>=2.8.2->pandas) (1.17.0)\n",
      "Note: you may need to restart the kernel to use updated packages.\n"
     ]
    },
    {
     "name": "stderr",
     "output_type": "stream",
     "text": [
      "\n",
      "[notice] A new release of pip is available: 24.3.1 -> 25.1.1\n",
      "[notice] To update, run: python.exe -m pip install --upgrade pip\n"
     ]
    }
   ],
   "source": [
    "pip install requests pandas"
   ]
  },
  {
   "cell_type": "code",
   "execution_count": 2,
   "id": "71dd3c4d",
   "metadata": {},
   "outputs": [],
   "source": [
    "import pandas as pd\n",
    "import requests\n",
    "import os"
   ]
  },
  {
   "cell_type": "code",
   "execution_count": 4,
   "id": "a76b484e",
   "metadata": {},
   "outputs": [],
   "source": [
    "data = pd.read_csv(\"Streets_processed.csv\")"
   ]
  },
  {
   "cell_type": "code",
   "execution_count": 12,
   "id": "05f98930",
   "metadata": {},
   "outputs": [],
   "source": [
    "API_KEY = \"qKFHRiMnRPm4NAjed-zTrgf36oQIrVldPGzv8oAsKhE\""
   ]
  },
  {
   "cell_type": "code",
   "execution_count": 13,
   "id": "e26e1f41",
   "metadata": {},
   "outputs": [],
   "source": [
    "def generate_map_url(lat, lon, width=256, height=256, zoom=13):\n",
    "    base_url = \"https://image.maps.ls.hereapi.com/mia/1.6/mapview\"\n",
    "    center = f\"{lat},{lon}\"\n",
    "    # Explicitly disable POIs and labels to avoid green dot or other markers\n",
    "    url = f\"{base_url}?apiKey={API_KEY}&c={center}&z={zoom}&w={width}&h={height}&t=0&nodot=1&nolabel=1\"\n",
    "    return url"
   ]
  },
  {
   "cell_type": "code",
   "execution_count": 14,
   "id": "703479fb",
   "metadata": {},
   "outputs": [],
   "source": [
    "output_dir = \"map_images\"\n",
    "os.makedirs(output_dir, exist_ok=True)"
   ]
  },
  {
   "cell_type": "code",
   "execution_count": 14,
   "id": "0b40af17",
   "metadata": {},
   "outputs": [],
   "source": [
    "coord_pairs = [\n",
    "    ('start_lat', 'start_lon', 'start'),\n",
    "    ('end_lat', 'end_lon', 'end'),\n",
    "    ('bounds_miny', 'bounds_minx', 'bounds_min'),\n",
    "    ('bounds_maxy', 'bounds_maxx', 'bounds_max')\n",
    "]\n",
    "\n",
    "coordinates = []\n",
    "for lat_col, lon_col, coord_type in coord_pairs:\n",
    "    if lat_col in data.columns and lon_col in data.columns:\n",
    "        valid_coords = data[[lat_col, lon_col]].dropna()\n",
    "        for idx, row in valid_coords.iterrows():\n",
    "            coordinates.append({\n",
    "                'index': idx,\n",
    "                'lat': row[lat_col],\n",
    "                'lon': row[lon_col],\n",
    "                'type': coord_type,\n",
    "                'street_name': data.loc[idx, 'attr_ST_NAME'] if 'attr_ST_NAME' in data.columns else 'Unknown'\n",
    "            })"
   ]
  },
  {
   "cell_type": "code",
   "execution_count": 15,
   "id": "52c78fa3",
   "metadata": {},
   "outputs": [],
   "source": [
    "for coord in coordinates:\n",
    "    idx = coord['index']\n",
    "    lat = coord['lat']\n",
    "    lon = coord['lon']\n",
    "    coord_type = coord['type']\n",
    "    \n",
    "    # Generate map URL\n",
    "    map_url = generate_map_url(lat, lon, width=256, height=256, zoom=13)\n",
    "    \n",
    "    # Download the image\n",
    "    response = requests.get(map_url)\n",
    "    if response.status_code == 200:\n",
    "        # Save image with a name including id, coord_type, and street_name\n",
    "        image_name = f\"{output_dir}/{lat}_{lon}.png\"\n",
    "        with open(image_name, 'wb') as f:\n",
    "            f.write(response.content)\n",
    "        print(f\"Saved map image: {image_name}\")\n",
    "    else:\n",
    "        print(f\"Failed to download map for index {idx}, type {coord_type}: {response.status_code}\")"
   ]
  },
  {
   "cell_type": "code",
   "execution_count": 1,
   "id": "81a7e240",
   "metadata": {},
   "outputs": [
    {
     "name": "stdout",
     "output_type": "stream",
     "text": [
      "Defaulting to user installation because normal site-packages is not writeable\n",
      "Requirement already satisfied: pandas in c:\\users\\user\\appdata\\roaming\\python\\python313\\site-packages (2.2.3)\n",
      "Requirement already satisfied: requests in c:\\users\\user\\appdata\\roaming\\python\\python313\\site-packages (2.32.3)\n",
      "Requirement already satisfied: IPython in c:\\users\\user\\appdata\\roaming\\python\\python313\\site-packages (9.2.0)\n",
      "Requirement already satisfied: numpy>=1.26.0 in c:\\users\\user\\appdata\\roaming\\python\\python313\\site-packages (from pandas) (2.2.6)\n",
      "Requirement already satisfied: python-dateutil>=2.8.2 in c:\\users\\user\\appdata\\roaming\\python\\python313\\site-packages (from pandas) (2.9.0.post0)\n",
      "Requirement already satisfied: pytz>=2020.1 in c:\\users\\user\\appdata\\roaming\\python\\python313\\site-packages (from pandas) (2025.2)\n",
      "Requirement already satisfied: tzdata>=2022.7 in c:\\users\\user\\appdata\\roaming\\python\\python313\\site-packages (from pandas) (2025.2)\n",
      "Requirement already satisfied: charset-normalizer<4,>=2 in c:\\users\\user\\appdata\\roaming\\python\\python313\\site-packages (from requests) (3.4.2)\n",
      "Requirement already satisfied: idna<4,>=2.5 in c:\\users\\user\\appdata\\roaming\\python\\python313\\site-packages (from requests) (3.10)\n",
      "Requirement already satisfied: urllib3<3,>=1.21.1 in c:\\users\\user\\appdata\\roaming\\python\\python313\\site-packages (from requests) (2.4.0)\n",
      "Requirement already satisfied: certifi>=2017.4.17 in c:\\users\\user\\appdata\\roaming\\python\\python313\\site-packages (from requests) (2025.4.26)\n",
      "Requirement already satisfied: colorama in c:\\users\\user\\appdata\\roaming\\python\\python313\\site-packages (from IPython) (0.4.6)\n",
      "Requirement already satisfied: decorator in c:\\users\\user\\appdata\\roaming\\python\\python313\\site-packages (from IPython) (5.2.1)\n",
      "Requirement already satisfied: ipython-pygments-lexers in c:\\users\\user\\appdata\\roaming\\python\\python313\\site-packages (from IPython) (1.1.1)\n",
      "Requirement already satisfied: jedi>=0.16 in c:\\users\\user\\appdata\\roaming\\python\\python313\\site-packages (from IPython) (0.19.2)\n",
      "Requirement already satisfied: matplotlib-inline in c:\\users\\user\\appdata\\roaming\\python\\python313\\site-packages (from IPython) (0.1.7)\n",
      "Requirement already satisfied: prompt_toolkit<3.1.0,>=3.0.41 in c:\\users\\user\\appdata\\roaming\\python\\python313\\site-packages (from IPython) (3.0.51)\n",
      "Requirement already satisfied: pygments>=2.4.0 in c:\\users\\user\\appdata\\roaming\\python\\python313\\site-packages (from IPython) (2.19.1)\n",
      "Requirement already satisfied: stack_data in c:\\users\\user\\appdata\\roaming\\python\\python313\\site-packages (from IPython) (0.6.3)\n",
      "Requirement already satisfied: traitlets>=5.13.0 in c:\\users\\user\\appdata\\roaming\\python\\python313\\site-packages (from IPython) (5.14.3)\n",
      "Requirement already satisfied: parso<0.9.0,>=0.8.4 in c:\\users\\user\\appdata\\roaming\\python\\python313\\site-packages (from jedi>=0.16->IPython) (0.8.4)\n",
      "Requirement already satisfied: wcwidth in c:\\users\\user\\appdata\\roaming\\python\\python313\\site-packages (from prompt_toolkit<3.1.0,>=3.0.41->IPython) (0.2.13)\n",
      "Requirement already satisfied: six>=1.5 in c:\\users\\user\\appdata\\roaming\\python\\python313\\site-packages (from python-dateutil>=2.8.2->pandas) (1.17.0)\n",
      "Requirement already satisfied: executing>=1.2.0 in c:\\users\\user\\appdata\\roaming\\python\\python313\\site-packages (from stack_data->IPython) (2.2.0)\n",
      "Requirement already satisfied: asttokens>=2.1.0 in c:\\users\\user\\appdata\\roaming\\python\\python313\\site-packages (from stack_data->IPython) (3.0.0)\n",
      "Requirement already satisfied: pure-eval in c:\\users\\user\\appdata\\roaming\\python\\python313\\site-packages (from stack_data->IPython) (0.2.3)\n",
      "Note: you may need to restart the kernel to use updated packages.\n"
     ]
    },
    {
     "name": "stderr",
     "output_type": "stream",
     "text": [
      "\n",
      "[notice] A new release of pip is available: 24.3.1 -> 25.1.1\n",
      "[notice] To update, run: python.exe -m pip install --upgrade pip\n"
     ]
    }
   ],
   "source": [
    "pip install pandas requests IPython"
   ]
  },
  {
   "cell_type": "code",
   "execution_count": 2,
   "id": "9a3659da",
   "metadata": {},
   "outputs": [],
   "source": [
    "import pandas as pd\n",
    "import requests\n",
    "import os\n",
    "from IPython.display import display, Image"
   ]
  },
  {
   "cell_type": "code",
   "execution_count": 3,
   "id": "27703fbf",
   "metadata": {},
   "outputs": [],
   "source": [
    "data = pd.read_csv('labeled_data.csv')"
   ]
  },
  {
   "cell_type": "code",
   "execution_count": 4,
   "id": "1fe92202",
   "metadata": {},
   "outputs": [],
   "source": [
    "data = data[data['predicted_roundabout'] == 1]"
   ]
  },
  {
   "cell_type": "code",
   "execution_count": 5,
   "id": "8c3571f9",
   "metadata": {},
   "outputs": [],
   "source": [
    "coord_pairs = [\n",
    "    ('start_lat', 'start_lon', 'start'),\n",
    "    ('end_lat', 'end_lon', 'end'),\n",
    "    ('bounds_miny', 'bounds_minx', 'bounds_min'),\n",
    "    ('bounds_maxy', 'bounds_maxx', 'bounds_max')\n",
    "]\n",
    "\n",
    "# Extract coordinates\n",
    "coordinates = []\n",
    "for lat_col, lon_col, coord_type in coord_pairs:\n",
    "    if lat_col in data.columns and lon_col in data.columns:\n",
    "        valid_coords = data[[lat_col, lon_col]].dropna()\n",
    "        for idx, row in valid_coords.iterrows():\n",
    "            coordinates.append({\n",
    "                'index': idx,\n",
    "                'lat': row[lat_col],\n",
    "                'lon': row[lon_col],\n",
    "                'type': coord_type,\n",
    "                'street_name': data.loc[idx, 'attr_ST_NAME'] if 'attr_ST_NAME' in data.columns else 'Unknown'\n",
    "            })"
   ]
  },
  {
   "cell_type": "code",
   "execution_count": 16,
   "id": "824d5b65",
   "metadata": {},
   "outputs": [],
   "source": [
    "api_key = 'qKFHRiMnRPm4NAjed-zTrgf36oQIrVldPGzv8oAsKhE'  # Replace with your actual HERE Maps API key\n",
    "base_url = \"https://image.maps.ls.hereapi.com/mia/1.6/mapview\"\n",
    "params = {\n",
    "    'apiKey': api_key,\n",
    "    'w': 256,  # Width of the image\n",
    "    'h': 256,  # Height of the image\n",
    "    'z': 16,   # Zoom level\n",
    "    't': 0,    # Map type (0 = normal map)\n",
    "}"
   ]
  },
  {
   "cell_type": "code",
   "execution_count": 17,
   "id": "6399502c",
   "metadata": {},
   "outputs": [],
   "source": [
    "# Create a directory to save images\n",
    "output_dir = 'map_images_1'\n",
    "os.makedirs(output_dir, exist_ok=True)"
   ]
  },
  {
   "cell_type": "code",
   "execution_count": 18,
   "id": "4e5d4bf2",
   "metadata": {},
   "outputs": [],
   "source": [
    "def fetch_map_image(lat, lon, street_name, coord_type, index):\n",
    "    params['lat'] = lat\n",
    "    params['lon'] = lon\n",
    "    response = requests.get(base_url, params=params)\n",
    "    \n",
    "    if response.status_code == 200:\n",
    "        # Sanitize street name for filename\n",
    "        \n",
    "        filename = f\"{output_dir}/map_{index}_{coord_type}.png\"\n",
    "        with open(filename, 'wb') as f:\n",
    "            f.write(response.content)\n",
    "        print(f\"Saved image: {filename}\")\n",
    "        return filename\n",
    "    else:\n",
    "        print(f\"Failed to fetch image for {coord_type} at ({lat}, {lon}): {response.status_code}\")\n",
    "        return None"
   ]
  },
  {
   "cell_type": "code",
   "execution_count": 19,
   "id": "162ff292",
   "metadata": {},
   "outputs": [],
   "source": [
    "for coord in coordinates:\n",
    "    lat = coord['lat']\n",
    "    lon = coord['lon']\n",
    "    coord_type = coord['type']\n",
    "    street_name = coord['street_name']\n",
    "    index = coord['index']\n",
    "    \n",
    "    # Fetch the map image\n",
    "    image_path = fetch_map_image(lat, lon, street_name, coord_type, index)\n",
    "    \n",
    "    # Display the image in the notebook\n",
    "    if image_path:\n",
    "        display(Image(filename=image_path))"
   ]
  },
  {
   "cell_type": "code",
   "execution_count": null,
   "id": "1650a8e4",
   "metadata": {},
   "outputs": [],
   "source": [
    "for coord in coordinates:\n",
    "    idx = coord['index']\n",
    "    lat = coord['lat']\n",
    "    lon = coord['lon']\n",
    "    coord_type = coord['type']\n",
    "    \n",
    "    # Generate map URL\n",
    "    map_url = generate_map_url(lat, lon, width=256, height=256, zoom=13)\n",
    "    \n",
    "    # Download the image\n",
    "    response = requests.get(map_url)\n",
    "    if response.status_code == 200:\n",
    "        # Save image with a name including id, coord_type, and street_name\n",
    "        image_name = f\"{output_dir}/{lat}_{lon}.png\"\n",
    "        with open(image_name, 'wb') as f:\n",
    "            f.write(response.content)\n",
    "        print(f\"Saved map image: {image_name}\")\n",
    "    else:\n",
    "        print(f\"Failed to download map for index {idx}, type {coord_type}: {response.status_code}\")"
   ]
  },
  {
   "cell_type": "code",
   "execution_count": null,
   "id": "c1923119",
   "metadata": {},
   "outputs": [],
   "source": [
    "import pandas as pd\n",
    "import requests\n",
    "import os\n",
    "\n",
    "# Load dataset (replace with your actual file path)\n",
    "data = pd.read_csv('labeled_data.csv')\n",
    "\n",
    "# Filter for predicted_roundabout == 1\n",
    "data = data[data['predicted_roundabout'] == 1]\n",
    "\n",
    "# Define coordinate pairs\n",
    "coord_pairs = [\n",
    "    ('start_lat', 'start_lon', 'start'),\n",
    "    ('end_lat', 'end_lon', 'end'),\n",
    "    ('bounds_miny', 'bounds_minx', 'bounds_min'),\n",
    "    ('bounds_maxy', 'bounds_maxx', 'bounds_max')\n",
    "]\n",
    "\n",
    "# Extract coordinates\n",
    "coordinates = []\n",
    "for lat_col, lon_col, coord_type in coord_pairs:\n",
    "    if lat_col in data.columns and lon_col in data.columns:\n",
    "        valid_coords = data[[lat_col, lon_col]].dropna()\n",
    "        for idx, row in valid_coords.iterrows():\n",
    "            coordinates.append({\n",
    "                'index': idx,\n",
    "                'lat': row[lat_col],\n",
    "                'lon': row[lon_col],\n",
    "                'type': coord_type,\n",
    "                'street_name': data.loc[idx, 'attr_ST_NAME'] if 'attr_ST_NAME' in data.columns else 'Unknown'\n",
    "            })\n",
    "\n",
    "\n",
    "# Create output directory\n",
    "output_dir = 'map_images_1'\n",
    "os.makedirs(output_dir, exist_ok=True)\n",
    "\n",
    "# Function to fetch and save map image\n",
    "for coord in coordinates:\n",
    "    idx = coord['index']\n",
    "    lat = coord['lat']\n",
    "    lon = coord['lon']\n",
    "    coord_type = coord['type']\n",
    "    \n",
    "    # Generate map URL\n",
    "    map_url = generate_map_url(lat, lon, width=256, height=256, zoom=13)\n",
    "    \n",
    "    # Download the image\n",
    "    response = requests.get(map_url)\n",
    "    if response.status_code == 200:\n",
    "        # Save image with a name including id, coord_type, and street_name\n",
    "        image_name = f\"{output_dir}/{lat}_{lon}.png\"\n",
    "        with open(image_name, 'wb') as f:\n",
    "            f.write(response.content)\n",
    "        print(f\"Saved map image: {image_name}\")\n",
    "    else:\n",
    "        print(f\"Failed to download map for index {idx}, type {coord_type}: {response.status_code}\")"
   ]
  },
  {
   "cell_type": "code",
   "execution_count": 4,
   "id": "7d12e41e",
   "metadata": {},
   "outputs": [],
   "source": [
    "# HERE Maps API settings\n",
    "api_key = 'qKFHRiMnRPm4NAjed-zTrgf36oQIrVldPGzv8oAsKhE'  # Replace with your actual HERE Maps API key\n",
    "def generate_map_url(lat, lon, width=256, height=256, zoom=13):\n",
    "    base_url = \"https://image.maps.ls.hereapi.com/mia/1.6/mapview\"\n",
    "    center = f\"{lat},{lon}\"\n",
    "    # Explicitly disable POIs and labels to avoid green dot or other markers\n",
    "    url = f\"{base_url}?apiKey={api_key}&c={center}&z={zoom}&w={width}&h={height}&t=0&nodot=1&nolabel=1\"\n",
    "    return url\n"
   ]
  },
  {
   "cell_type": "code",
   "execution_count": 14,
   "id": "5616babf",
   "metadata": {},
   "outputs": [
    {
     "name": "stdout",
     "output_type": "stream",
     "text": [
      "Testing URL: https://image.maps.ls.hereapi.com/mia/1.6/mapview?apiKey=qKFHRiMnRPm4NAjed-zTrgf36oQIrVldPGzv8oAsKhE&c=52.5166556,13.5439569&z=13&w=256&h=256&t=0&nodot=1&nolabel=1\n",
      "Status: 200, Response: ����\u0000\u0010JFIF\u0000\u0001\u0002\u0000\u0000\u0001\u0000\u0001\u0000\u0000��\u0000C\u0000\u0005\u0003\u0004\u0004\u0004\u0003\u0005\u0004\u0004\u0004\u0005\u0005\u0005\u0006\u0007\u0007\u0007\u0007\u0007\u000f\n",
      "\u000b\t\f\u0011\u000f\u0012\u0012\u0011\u000f\u0011\u0010\u0013\u0016\u001c\u0017\u0013\u0014\u001a\u0015\u0010\u0011\u0018!\u0018\u001a\u001c\u001d\u001f\u001f\u001f\u0013\u0017\"$\"\u001e$\u001c\u001e\u001f\u001e��\u0000C\u0001\u0005\u0005\u0005\u0007\u0006\u000e\u001e\u0014\u0011\u0014\u001e\u001e\u001e\u001e\u001e\u001e\u001e\u001e\u001e\u001e\u001e\u001e\u001e\u001e\u001e\u001e\u001e\u001e\u001e\u001e\u001e\u001e\u001e\u001e\u001e\u001e\u001e\u001e\u001e\u001e\u001e\u001e\u001e\u001e\u001e\u001e\u001e\u001e\u001e\u001e\u001e\u001e\u001e\u001e\u001e\u001e\u001e\u001e\u001e\u001e��\u0000\u0001\u0000\u0001\u0000\u0003\u0001\"\u0000\u0002\u0011\u0001\u0003\u0011\u0001��\u0000\u001f\u0000\u0000\u0001\u0005\u0001\u0001\u0001\u0001\u0001\u0001\u0000\u0000\u0000\u0000\u0000\u0000\u0000\u0000\u0001\u0002\u0003\u0004\u0005\u0006\t\n",
      "\u000b��\u0000�\u0010\u0000\u0002\u0001\u0003\u0003\u0002\u0004\u0003\u0005\u0005\u0004\u0004\u0000\u0000\u0001}\u0001\u0002\u0003\u0000\u0004\u0011\u0005\u0012!1A\u0006\u0013Qa\u0007\"q\u00142��#B��\u0015R��$3br�\t\n",
      "\u0016\u0017\u0018\u0019\u001a%&'()*456789:CDEFGHIJSTUVWXYZcdefghijstuvwxyz���������������������������������������������������������������������������\u0000\u001f\u0001\u0000\u0003\u0001\u0001\u0001\u0001\u0001\u0001\u0001\u0001\u0001\u0000\u0000\u0000\u0000\u0000\u0000\u0001\u0002\u0003\u0004\u0005\u0006\t\n",
      "\u000b��\u0000�\u0011\u0000\u0002\u0001\u0002\u0004\u0004\u0003\u0004\u0007\u0005\u0004\u0004\u0000\u0001\u0002w\u0000\u0001\u0002\u0003\u0011\u0004\u0005!1\u0006\u0012AQ\u0007aq\u0013\"2\u0014B����\t#3R�\u0015br�\n",
      "\u0016$4�%�\u0017\u0018\u0019\u001a&'()*56789:CDEFGHIJSTUVWXYZcdefghijstuvwxyz��������������������������������������������������������������������������\u0000\f\u0003\u0001\u0000\u0002\u0011\u0003\u0011\u0000?\u0000����s~\u001fʪ�Ǻ�?Νt�\u0002�a\u0011\u0012ހ��El'�W\u001eV9�Z�̲+\u001f@�\u0002��RrZ[��d}�*\u0018\u0001�2�U�s$�Z�4�XX�f�=�k�\u001a���~�\u0002��i��\u0018�\u0016��\u0016\u0019\u0019\u0011[�Kyj3�\u0019\u0003�(݆���+o��\u0000�ѿ��9�O�G\u001d������r�v]o\u0001���\u0012*yyF\u001dK�y'\u0000\f��n��\u0019��˨���U��v��m�<��\u0001�\u0019b�O�8��ds#����*������wO׵k�\u0011=��CAor��>\\/�c\n",
      "�\u0006�\u0013�sڲ,�\u0010�\u001d\u0013RYt�i/4���\u000b,�\u0010��e���r��1�㓑�1ܷ�t\u000f��\u001f��\u0000�絙�\u0000�|U\u0006�$s\u001b6�)rc\\�\u0006\u0018�\u0000Ƕ\n",
      "G^���j�O]:y�\u001b.\"��/!�k�\u001b�\u0004ļ\u0000\u000eJ��\u001b\u001a�F��$\u0017\u0016Vs�&ȷJʸ\u0003\u0001�H\u0006\u0007\u0019��KCh���s���\u00071�\u0018��5����ǥ.�����î5�\u0019U�*�C>��Bs�\u001bws���K������4�`\u0004\u00177\u0004\u0019�4����.�q�Uv�r\u0007\u0000\f�R��?#��%K%�f��}�A\u001d�\u001a8R\\�0䎀zw<u<~9��,��\u0004\u0001��c��Ccu �\u0016�\u001dW��8�8����,�\tp�I\u0019\u00189ⶡ��ת��K��ߙ�Y�nS����lK\u0017,7aI9�\u0002�]��f��e%C�N��X\\�\f\u0001V�x�g�BF���$�\u00068��\\\u0017p<�v#�l�\u000b���%����\u001a�⍵4��Q�c���>@B\u0018���r=?���Ȼ�\u001eh#PLj�%��[$u��c�rDB�9\"�B�P\u001fĐ*�Wv�%Ķ��j�,\u0019\u000f\u0007��Vt��M]]\n",
      "\u0013�}Q�c�d��\u001b�l��S�\u0002ڙe\u0000��\u0000�\u001d��\u0000\u0010j�6�4�y���\\�̠���Io��m��[\"��p\u0015T\u0000Jǻ�\u0000f\u001f�u�]����m���7\n",
      "0�n�\u001e��o�RZ�[H��8@\u000e~�\u001d��\n",
      "p���Mp�\\\u0012?�T�ҷ��H����\u0012[\u0007xcm囕\u0007�I��k\u0003\\ψª�P\u0014���{}EZ�O����\n",
      "�ϑ3�\u0000zV�8����xB<+\u001c�)w���<`��\u0000J�Ș}ۧ?�*��\u0005\u0012�װ��U��\u000f�jrp2h\u0002���m���ۤn�Fpq��O�]G$�a���~W��\u0018�T�x�\u0000C���\u0003\u001fǚ�@\u0014nd��T��\u0006�$���A�}��}l��\n",
      "\u0011�ҭ�h\u0000g\u0000\f�qހ*�����]��_a��3�zW��Yk%��\u000f�#���RM1�=\u0002[ۋ�r؎'IT\u0012�@\u0000+2�<r\t�v�6ḿ�\u0018�v�?�����\u0004ҼK>�ڄ0�Ml�Y��2d�G+9p��c�\u00002�y�ѷ\u001cE�����\u001d��Dn�A*��\u001dEW�����Ƿ�d\u001fZ}�%\u0019�\u0018���/��^\"��~\\�kb\u0007jqK=���Ȉ�턲����s��5��R����\u00129���9�\u0019�\u0012F@�׍�\f@�\u0000d��_���ҡ�ᥚtDV\u0018�A���\u0012�7���[�Z8��Q��+s�E�*y%wl߸�\\�\u001d��񪍛�N���+��[{\u0010<=,\u0011�\u0004\u0010~�]�@U�\u0019�֍N]\u001aܑy��ys}8�B���Lc���\u0018@\u000b\u0002ǎ��\u001d���H���zh�=\u001e�İs�2)K�\u0007nv�ǩ=@��X�:����u���{>˙�\u001d��::�\u0010�=F\u000f'��/�:�bF���R���\u001al\u001a���S\\,q���\n",
      "�7͟�1�\u0015^�\u001f\u000f�M��|�{-���$[��c�\u0001�Gˍ�d�\u0007\"��t\u001dn{��*f��y�[;k���|�\u0013\\\u0012P�&F\u0003\u001dJ��'�kK�I\u000e�%�{d�]o���v\u0019>�'\u0000�d��\u0000錌g\u001c��]D��\u001aWk�_��Εsh��[�y`\n",
      "�$g�\u0001��Es׃�:W��-N9�۟�I(��|�\u001eF����X�W-�\u0013���қ�xi�4ɭ�ݴ[�T�FDwb.\u001d�>P�n\n",
      "��\u0000�\u0007�.J2Gy\u001c(�\u0005R\u0013��,@�1Z�PH\u0003'�C�b�259.��$��\u000bmm�#��z䚹jd\u000e��ϙq0\f{�\\)�\u0000�EW�1]���b�NX\f�p3����\t��L�r\u0016d;�@s�#\u0006���a_W\u0018��GDAu\u001d�a�\\\u0006� ���>n�����\u000bfVXX9\u000b�\u0010y tǽO'�}\u0010����\u0001�i.�i-��\\�@��+���\u001fz�O����X�k3ŕ\u0016��q ��O��n�>�i_��O�UcҬ�j\f'v\u0006Hv\u001c�u�E7nGb$��\u0012\u001d;Q���I%+\tU\n",
      "��\u0019����R/��t`�F<\u001c��4�h�k���/�\u0004�?Ěm�v�y~@\u000e̪\u0018DGR?�\u001e�Q����)_�f\t\u0014H�냱9 ��\u0018��\u0000�H��=k9m\u0007�e0�$aT\f\u0006<�\u0013�\u0015\u001f�l3!fi�XؐWp\u0019?���T;\u001a���I�\u000b\f\u001cr)h\u0010W�|cԼ%���Mѥ��3i}\n",
      ":;�\u001a\"����$������\u0014\u0000\u0017;v����\u0011.ZRe�^��][H�[�brP[�\u0005\u0018�\u0018\u0003��e������\u0004\u001c/�\u000b/鶯���*���*�-0P\u000f�:*\u0018$�%���6~v5�l{d��jˢ\u001d�b�S�wv\u0002[��\u001c� P�e��ןm���MB�\u0004�T�{g]��6{�j��U׭�������Ʈ�H��2�@�S�Υ��\u0019\u000f�t�\n",
      "�n\u0007`�\u0013��0@���/�Oy���s\u0010W�ao\u0004\u0016S\u001b��O)�1ȫ\u001a��*6T�\fu��\u000b��m�\\Ik{%����\u0000j�g�L�]�\u001f�\u0000�\u0014F���|�9$�\u001d[�\u0017\u000f�;�O\u0011_>�\f�%��\u0007��$���l'79;�8n�(��Q�X�P�v�%�೹�ɼ�i?�fG��H����;�\u0018ɍ�^\u001b�1W�5�D�\u0014�m���q7ٙ�\u0016\u0011\tD>~��۟,��\"������]�\u0003�:���������=��*���\u0018]������d\u0001@�NF+\u0013D�2]��:�����g4�khC\u0013#��\u000b�C`��W#���z\u001f��\f���k+\u0016��L�\u001f��\u0016��r���\u0018 �\u0004�\u000ek*�9�����펡{3�5\u0010�\u0004�!P��6���C\u0013���Uտ<���N[��c�M\u000eI����z;�\u0016�sq�i&��A,O�pӮ\n",
      "�<\u0019c\u001e�y�Eyv���TzT��[�A(\u0004\u0012�|��I9�\u0007\u001ds\u001bh0^k72��9\u001a���4�\u0010�Z�R0\u0017%|��g�~գ�!��V/\u0017ZO$1Es~e�F��,�/2Ȳ�l�`�\u0012\u001c�\u0000��:TQ��O�\\���H��c�f�h�!���*\u0015q�Dr\u001b�r8*k7K�F���gu.�%��{xU��Y�\u0018��E��\n",
      "�ɺQ�Rp\u0018�$�D�N��m֞�Z��s�ŦH\u0004�>Tb\\\u001c��~��'# q�.�\u000b��<Ci�j\u0016V�&�a��+�၉Y\u0005�\\)\n",
      "��\u0004\u0011^[g6���kss�]6�/m�o��f��4i�4I��i\u0018\u0011*�(T��\t��\u0018����.��=�TE{\two��\u0003n�p;�Ug��\u001b��65��\u000e�X��\u0004��\u0006K}�\u001c�A��6qǵLi�.g�7��\u0013\u0007���\u0004**�}I?҉>k��Q��\u0003�j+{[wy��\u001f��\u0002\u0017\u001c\u0000\u0007��5-���\u0011�M��Þ���Z���\u0000�V_�_́�jz�u\u0014��Ar[t�\u001b�\u001c`\u0013�\u001e�,��4g-\u0003�\u0019<\u0015���\u0016ǘ7yٿ64]s%�z˟�\u0013�*+F���$6۰��q�Ǿ)��F�Q��$J�~�瓀:gހ,�+\u0007��\u0011�L��\u0000\u0007���a�C�3��b�[�F]�u\u0003ո�t�wj?��\u001f��P\u0004��\u0003�A��\u0018�\u0019iO�)?�Ji��\u0011,I\u0011*[.w\u0011Ӱ���\u0005���\u0018�҇���&�������\u0011[�>\u001c���c�z�\u0015ڸ\n",
      "�\u001f\\S��!��?��3M{@�Q睔�\u0010Xr?*K���!��1r1�~��\u0006N�s\u001b��\u000b\fn�bYzt_�?�J��X�[H|i|�\u0018�\u0015�3�L\u0003��Z��H����i�c��Rރ5-��?d���“9\u001c��Y�M:BA*ۆ8S�kA�d�E\u0012��\u0001���\u0000��JL\u0007�m\u0012D�``���7_Ζ@���\u0017�x�;rE\u000by\u0016Hd�\fd��/.���o0`\u0018n�rG#�\u001c��T\u0001Z�a\u0004yp<D�$\u0015ۻ\f�\u0003ߊ�\u0013�E\"D�g>^��-�\u0001��)�1��):���\u0000\u001a���\u0000�/���\u0001\u0006�\"����\u001f�����\u0018Tp��S��\u001f�Ikw\u0019Դ顒^>�\u0010�j�H�\u0014dgj���`�( Wuw\n",
      "gR*J��\u000fUҚ��p�\u0000���x��5�\u0000\t���1o��&�䴲�J\f�h�K���#,��Ps�����D�t�^\u000bMWI�K�\u001b�o:\u0019Ջ\t\u0015� ���\u001d+�|kw��>8�O\u0014�&���\u00147\u0012.�~�Z�\u000b6��l\u0010\u000b�\\\t\u001fy%r\u0002��W��\u0007Y�5[[-J�����؃\u000e#XaFG(|�?���\t\u0017p�YFsSF)Gk4k����I�=N�c�c~�x\u0007���g�~�T�Y�\u0012�1 \f���F��\u0014W\u000b�|�\u001e\n",
      "�-��s�\u0018�*�xH�\tfۻ�O=�kI\u001cLԷ���\u001f�S�\u0000���\u0015@Y�[O\u001cp��\u001c1`�0\u0004�{��Q���Y�*Q��;u\u0005q���\fn��g�G�8�cO�\u0000�8�����s�j+�XV�I\u0018��\u0014���p@�Ӣ�HaD{i\u0000E\u0003*C\u000e\u0007�?�\u0000>ǘ\u000bzG?��ۢ5��\u0014R�M��r\u0000P?ƣ���-\"\u000f�N�Nc`?<R��ۘ����gf�a��q�b�%���\u0017�Y����j\u001f��(����{� �\u0016%\u0019���\u0002��bU��?��@\u0013�}ȉ�$y���\u0011F�?w�=\u000ez\u001aЪ� �.�\u0012\u0004�ˑ�\u0000_�@\"hcH�\t\u0018��\u001c�֗�\u001e��t\u0017\u0005�R�6�pwG�\u0000�>����;�p��x@6�\f\u0013�����\u0007��-��Ɂ�(\u001f�J�߹��j?2�St�U��@U.�\u00001�����[�qr����\u001f�@2;�x/%6�PEqo$\u000e��*\u0007GV�*��A\u0019\u00185���\u000b��7V����2�t�gS�A@�\u001d��'*\u000f\"����\u0000u\u0015������b��4\u000f#\u000f�����\\8�?kJ\t��\u0000$kMi&j�:+��3��\u001fZZl�0I+�\u0015\u0014�\u0013�\u0001��19�\u001a�;��%�v#��$��H���\u000f®�s\u0018_�0\u001f�5��+I����}�V��ʞ3�\u001f�Z�\u00152F\u0018\u0012rJ�qMl7����\u0012zE\u001f��_���q`����=0I�X�j�֒�\u0004W(A-�3�\fZ�#]F�)7�\u001c�\u0018����ғ\u0002\n",
      "\u0000\u001c{��\u0015b�(��\u0011$j�@p�=j���J�JD�!l\u0011ל�o�Vd�H�\u0016\u0013\u0004�#(@@\u0007�rF\u000f�O�Hd�|q��,h��7�\u0000��8\u001f��5%�1�Y0\u001d�W8� Zj\\ڢ�y�0\u0006\u0000pS\u001f�$�G+��\"�d���@O�\u0014�Y�<�u��6�3����0��\n",
      "�>`$v\u001c��U\u0016��K�\u0003��$��7�EM�k7� �|�b��\u000b��\u001eLH@e9)��m�/.�Ԅ&�����[�9�0G9�q���`�/l�`��9�;�\n",
      "\b\u001d9A޹?\u0010�V�D��N�ȵ\u001a��ė�P��e\u0002(Ha�\faݝ�a�*�\u001e\u001b\n",
      "\u000e\u0012|���z\u0014��K������~\u0007��<�}��lQ��Y��1�aӌT�_���*�_�$������9�Q\\W��N��6�\u0012[h�V��\u0001k��\u001bK��\u00135��]\u0000��b ��3����!��e9\u0007�R?��+W�\u0019��-Z��;=���\u0011�WEa�p�=�E4M\u001d�5�q�+�\u001b�G\u0019�Y-�ݤ��U��N�`�ӑ�\u001f�^��m���\u001c�X�i�L�!^�M��j�[2���5�Y`�\u0003��ę#,\u0007LZ�z�-&a�#c��\u0017V�y*��\u0006U=q��*k�m��\u0000y�6\u0015�� �P{\"�\u0000!Q��>�\u0012��\u0011\u0018�>���$Y͎�J������p(\u0002���2<���~�\u0017�\u0000�=�Kql�h\u0011$�r��\u0000�'\u0018\u0007�=�R��6���vf?�\u001aW���\u001fݍ��G�\u0000^�\u000f&q�n��\u0000���\u0000,T6W0����$�\u0005A$�ޭ��#g?�\t��we\u0016��g�\u0006X::���K�ǃ�8\u001f���`�K!�A��$�\u0000Z�C\n",
      "V�٩���-�V�%̳�h���\u000e�X�8��5�Y��]io}\u0016��\u0012-�;��j��@W\u001b�+��=���OV�\u001a���[ƶͩ�Z\u0007��w����`�l\u001b��s�8?0���pf\u0007���@��~D�4\u0003Ђ��\u0011H�cf\u0003�{%�d�9 �3�=3ޙ0v���)@S&\u0000+�P*���c`�&��\n",
      "���\u0010\u0002�&3A��ʥ�\u001bs�\u0000\u0002\u000b��cD\u001a����:�\u0007+y\u001aJ\"?u�H��\u0000��\u0003�\u0000]\u000f�2}.��~\u0006�\u001b�2J��Y\u0019\u0019\u001b�;�\f�(�p�\u0010\u0018r\u0005M�Kqm��{g��7�d\u001c���8?P*\u0002[�]\u0019�YL�e�\u0017#\u001bC\"�?\u0002M&�ѕ\u0019�5%�<�I���[^��\u0012mG¶:,Ŭ�f�n\u001aA�5�̎\t�̕�\u000e\u0003p\u0001\u001dpk��Ǌ4�\u0018���\u0005��v0J!�s(YnX\u000f��\u00027D1�n�3\u0003��m%~&�x�ߦ�cuuk��>�[�Y�:�\t^9�qЂ+�|3��t/\u0010�[]A���W��s��O�=�*[�Vv�YJ��\u0006��͒F�\u000b\u001c#f�9jub!�F�ǹ'��\\��N\u0016�����$.\u0010d�\u0011�'�\u0019T�Wyȅ?�*���\u0000J��\n",
      "���^�����K��4���6�3\u001cr=�V�f�\u001cs���\\�l�\u0019��\u0006���m�O\u0018�>�Z(W�Ѩ.s��\u0013޸j�F��<Y�F���Rx$�����\u0014�\u0015@l\u0001���z�R���\n",
      "�ɴ��4l\u000e\u0017\u0000�T�i~k��\u0000b!���\u0015\u001d�1�{\u0010`AX��S�\u001c�r?\u001a�mm�̈́��(�J�6i\u0010sʜ\u0010x?�Z��q�\u0013�\u0013Tn\u0004��\fr\u000f�F\tn\u0014\u0007�\u0004r:\u001e��Je�C%��k1�AB���w\u0018��O��;�\u0017��e�+� \u001f�6>o�>�����\u0014\u0006�P\u0001�&\u001f�ɏЏ�P[N�I������0��\u0003���\u0004���\u0012Q�n]�����}��J\u0017�P��x�.�beE;�2.w#/\u0000���\\\\A*Ɖ4m�E�\u0018\u001e�?Ҁ$�\u0018�1��U\u0007�@��%#O�J��9���\\��zP O��~n��г�C\u001f�5\u0000-�\u0015���P�\u001f\\S�!��D�B�}�!?������/�\u0000��P?�v�Ǐ�@\u0011F�SO��\u0018\u0016�\u0011��*��\u001a3\"��\u001d�_�1#�ջ�\u0016\u001b�1�!���zr��F��G��E\u0017�\u0010/�+������$��Me�42�ÚE��آ�sl$�D��t�����P\u0019G\u000b��\u0018�\u0015��+-\u001e��\u0019!�n���s4�\u001f�O�\u0004Nc\u0007n@e\u0000���}����6���-��%����<��6L�\\I�r{\u001c��=\u0005s\u001fؚ��\\Z�i�ٙƛ,���B����V6<m��;�\u0003�\u0015�[�翑�Zh\u0016ɤ�\u001a[�{�vY��I\u001e\u0002�\f�0�\n",
      "2�'\u0018�O#&�XxwO�����n\u0001���i���m���dJ\\�q�$�C�b���k�d�\u0007ӡk\u0018��Ŵ[�b4�\u0001�\u000b�\u000f�!\u001c|�v8��4���T^�wy\u001bYyw\u001az�!&%~o��۹�$\u0003 Q�PߠEa��f�\u0019�/�<���b��9\u0011\u001c&�~C\u0010B!%���ˍ\u000bAm-�����,��\u0014y!�&XD`�\u0010�Dj\u0014��\u0019\u0004rk\u0012��Ĉ�}���76�Z��\u000by煮����6�\u0007��̑H�ű�{U+�\u000fT�GҬ��<\u001aeż��Xϑr�\n",
      "�p�\u0007�?Ɩo��\u0015��!�h\u0018�swn����\u0018�\u0000٫��4|�0��\u0018�\u0017;��@1� WD>k���_��\u0000�5�x��zލ�� ��D��\n",
      "�bs���m\u0000�6�`��\u0016�A��{��+ͮ�?i��r�VQ$�܋�d\u0000��p�oEl��R~e\u0003# ���v�/ݚ7\u001f�&\u000f�\u000f��\u0016i�j�\\�ڍ�S��\u0019�u8tx#��\u001a�\u0011O�7Z4m��}^�=����̽�O����5o\u0013h�E�?���]ƅ��aU�\u0013�1�u�kť��R�in<Ӓp\u0013oA�_\\W�h�V��x���}\u0017ϴ�P���:=�1�@��i��q��G��F\u000b��=�{ލq�N����TZl�H\u0004\u0010\\\u001b��J���@݀r\u0006@�OZQ�\t�6�'\u0017��*�\u0015�ƕ�7\u0017-��_�A��G�_J����?�Q�\\ەrf�3H�\u0005�q�\u000f�\n",
      "%2`\u0011�\u0014���S�_��\"?��\u0000�j=�\u0011�����q�\u0001��\n",
      "�׿��u��sn��[�R?�6�\u0012K�udV\u0019f9\u0019��P����y�n\u0015#?2.\u0018\u0002GQߧoʥ�h��V��\u0004���\u0004��\u001d�\u0014\\w\u001el����*\u0005\u000e�\n",
      "��С+�ʢ�'24�Ȳ'�A'R=r=��AS�\u0012�-Ԑ\\e���~���L\u0000\u0000\u0000\u0000\u0003�\u0014��q9�Y�x�r���\u000fq�GZ���X��� �\u001c\u001c�\u0000Jt\u001f����\u001f�\u001fӹ�O�\u0015\u001f�⸺2\u0005�\u0013#r���~G�O��\u0004w�\u000f��2�\u0014p�\u000b\u0016\u001f�8��1ͷ{2�,w\u001c��\u0000�Ӯ�K9�37�rp�2r���\u001e).mv\u0019��#���ўqҼ�\u0017�:��+}�ڦ�^BI\u001cq\u0015x�\u0013�\u0000�\u0018�x����\u000e.�G���`n�f�m�\\\u001f����\u0015t�α�3�©\u0004��\u0015���|iF�h��Y�|����W�̑�p�`��\u0014�f\u001e]�(�\u0013\u0003���-��e\u001f��L7lO�H��\u0014ċ�2�[`\u0001���.�\u0005�\u000b8�Β+\u0013��n\u0007�\u0006G���,\u0000��\u0019�w\u0013a\u0007�����=�)\u001a~U\u001f����\u0005G�5�]O��:\u0012ٍ����ޭ-�\u000b��/''\u0010�<cҖ��\u0002�\u0000zD_�xg��]��c�\f�\u0005;K���w���Lx�\u001d�1B�!�w����\u0000��g$���T�@�� ��\t��ۙ�\u001f�L\u000f�G��\u0000Ti��1�9�]\u0001�\u0011��?��5����Z��M�8��1��\u0017\u0000g��\u0018��\u0000=*��w<\u001aE����s'��3�?\u001e좢�-��� ��I\u001a3�Q��hy\\c������3���{�, X��)�\u0014�*D��\u0011�f�q�˯������6_�H��\u0015#\u0007\n",
      "�U?!����)�\u000bSn�\u001crF�6���\u000ex�U�2�}�t?�I��\u0005\u0017\\�\u000b��G��*z\u0000�\u0014������`*p\u0003c\u0003=��U\u0013���R��b��T�(�����*ݟ\"g����q�(����Jߧ\u001fҀ++\\٩�p'\u000eWq^\u001c\u001e\u0000\u0018�\f}*Y.b�,\u0011I�s�\u0007�e\u001d�<��{P\u0019e��\u001c2\u0014�-�M�r?:l���\u000bOv�X�ۺ\u0014\u001d����W\u0012&�,\u0011`��$�\u0004ӧ�M�R��嵶�I�++N�\u0019]� &ܓ��F\u00018\u0015o�V�m?�'Ӣ�SO���\u000bٶ�O~e�B�S$���h�\u0011�;H�.\u0015��tN^�\u000fNO�}�\u001e�d��D\u001dA�\u0002A\u001d�5\n",
      "�,��\\\u00071C�9�u�&�y��Q���®�0p�\u0011]�����F/\u0017�q�$���\u0000��\u0018\u001e�Y#�\u0001���ߘ��3\\E��s\u001e�h�cyo�E��I�_�������L�ĨA�,`Q���O\u0006\u001di�Y�O�6���oujgky\u0016\u0019�?fe%\fJу�߼0B�\u0017��ܰ\u0000�N\u0003qW�Q��|�y�KɎ���Rk��=kR�Օ�C�:��<����\u000bQ\u0007�%\t#I�\u001926Ӗ�[\u0018�V�æ�\n",
      "��r��_�*X��X�C̸\u0000q+c�� �*Ѵw\u0012\u000f,a\u0001\u0000�?/jLL]�]-�\\E\u0010\u0005���?���N��ӈ��0��{\u000f��T6�u�\u0019\u0016X�{����:�ڒ��E���\u001b�%�\u0012`��LZc,�!���\u001c�iV�Y$�,�K\u0012���� \u000eX�z�.�����M������\t��\u0018\u000699\u0007��+�����\u001e�\u0015͌��\u0004�S�'*y+�\u000esҹa/�˶�����\u0006��m���\u001cv�$�\f�'�)\u001f��:���*�f��#'d?/�A�'9�GNO\u0007mT�a��ic��KOpG�Z\u0013�E��4\u000b���T`c\u00199\"�/�-��w�t�*�t1�l�,�\u0018�p?08�Q�!�:L�h�ޟ��\u0014��\u0005�PX\u0011����Y<�4��$l�qf\u0012/\u0004\u0000\u0003�\u0015�i�6�s,Wv�2��D�b�w���c�\f6�v?�k�jS�oq���[�\u001b\u0005eX�@\u001f{nc#>��ք\n",
      "�y�Lry{�\u001fQUnV+�!$����W8%��~u2ݱ�H��\u0005+�#\u0007�Π��Kk8p����*G \u0017�&|�g.ɕ\u0005y$9�˨�1��\u0014o�m�Ƚ��ONy�dhZh�\u000f�U\u001b��-��CWls�$\u0012��r;��\u001f�*��\u0012\u001f-�)+>����\t�zw��Ó\u000f\u0005�o��\\�0��{/�_�,lP�Q\u0007\u0000�1ִf�\u0016��;��\u000b�Xd \u0006�����\u000b翧\u0015�w�]KR\u0012jhL�\u0019;�!\t�\u001dqׯS�hAg.�\n",
      "V�<m~�L��\f����񮋲4#�X��y.aq\"D�̋�3�p~BH\u001c����Ki��\u001a�8���\u00020��>��V��=���M2�m�#m��N9\u0003\u0018��ѩ�\\\\�i��ݽ��(]�<�qН�y\u0018�)]�PY=���[�(\u0019�nm�yy^\u0003�a�?Z˃��C܈��/%�S��h���,\u0000\u0015X��ui%���Mw\u0003�Dx�#\u0007�����*�~\u001c��hf�e��2\\����_���N��\u000eT\\�<X�p\u0002\u0012���*e�G�Xwھ�qf$��#����\u0011Z��V�=F\u0007~��Һ\u0011��4lR��n\u001d�\u0019�(��\fp@�\u001e��6>\u0016�\u000b���Qk�`w-�9�$|����=}��z\u001c����W����-��P,�^@{0\u0004��\u0019�Oҳ&��Ɇ\u0019\f�Y�0�[ ��\fu���_���b�����L�,�\u0000\u0011��\u0010�d�;{�t�\u0016\u000b�%��?(}�����Ƭ�\u0005u\u001b�9�+Er���%թO��4\u0010\u0017r�۟Ժ���p9�RGe\u000e��Z�Y��.\u0011Ĳ9��F\u000e1�L�B���у)�\u0010r\n",
      "���C^z�ԛm�G\"�96�B߆d���5#\u001eL�1$�\u0001�\u0000+��КY/4�F=�[;�mIIʰ�\u0001��\u001c�\u0018#\u001d{T>\u001c��x��fO�Mk�vG,6�c�k.(Æwu�4\u0019wl�zt��\u0001_G�Q�Z�u4�Z�׭V��'^�ն���!��ֻ��m�\f�v'�\u001f^+qu+\u0019��J|�߼˄>۾��\t�_@�W�q��\u0004�X��\\N�\f�\u001d:��q[\u0013�u.#�g�ti�Y$���S�e��\u000fN����5\u0015&���6�y+3���\u0006��c�TT�D���>Q�T\fv��Z7\u001e\u001dլ��hc�,��S\u00134R����}�Ʋ-�v/C���̿u\u0013�\fT#�n�\u001f��\u0015��Z�V��팿��FGo�\u0003�\u0000C�<:����c2|��O�3�:L�R��V�����I�*��Y\u0007��봎�W]�jw��\u001a_��H\n",
      "��FC��[�s��g�\n",
      "�����\\�$���Y\fL͹B�~�\u0018<\u001eµ��׆��\f2�K����eK�wJ&}�6�Ȯ�$6A�����d¤*G�.���|Y}\u0006�{\u000e��K#��Yص۲l/9��RrHY�P\u0006H�3]�׃GY9l3`(�'$7�^\t<-�^]A+ú����\\���bC4F�E�\u0004n̫$*ꭵ��e�j\n",
      "��H��8\u0003$/��sT%�m��7��Quw\u0015��\u0019�3E��m��cɏ�\u0000;y\u001c��O\u001dܱ\u0018ϑ���\u001d�\u001dt<�=�v�h��\u0002�\u000f�[E�Q�}F\u0017�1��.�a�\fn\u0004�C؃��j���\u0007\u001e\\��*ml�a��\u0016�37��$��}�֊��%��v�[̲�*ƪD���c�\u00120z\u001e����\u0004�?p���t\u0017FI�{+\u0002��ذ2)܀\u0013�\u0000�{S�/��wK�yM�7����iɫ�]\t��\u000f����F0F>A��\u001d��x\"�pJ�\u001b}ܜq��7\u0012o�+u��\f�Lt��U�9��_��~JG��9ic\u0019=,\\�P��\u0006\u0018b2~����Л��YD�\u0000�pS\u00118\u001d��R��(H�x�'<3�i�\u0012�������~^r8�֮;$8�-�K\u001c/+�k U$�,����I\u0001:�/�nv�J*�7_ך�:��\u0013DR\u001c0�!�\u001f�*��8�wy[j�����\u000f_Ιd���̙XG\\\u0011� �\u001a��8�K\u0010!wgi$�Ͽ�H�jI&�f�a��e�w\u0018a�Ƿ�ח\u0011\\\u0018@�\u001eC 9?yA\u001f�h\u0011r[([i��r\u0011H\n",
      "?\fS.\u0012+�g\f\"���\u0019\u0000�_�4�x�-��H�\u000e�\u0011�\u0000֨�\u0018ۙ%8�#P��c�N�\u001e���H��&s�h��H^�G��f\u0005#<�'�A�<cס�\u0015�ir��)b\u0012����c\u001d�;A?�Q�Wq�F�Om\"��E\fT�� �\u0000,�5���\u001bMwP�vig�u�+���Þ}I%y�LE\u0015iMv2�M4�\u001bZE�\u0010�l�m���\u0001\u001cm���O�\u0015_E��T��Ǹ�#0\u000e��ÐGl�N>_��/Y���PY�B������\u0001T���鞕�xn�,4Kkt\u0003�\u0004�ܞ��\u0016oب�A�I�2�ZX�UB���\u0006\u0000\u0010�?��l����C�6Ä#kq��}J�UuiͶ�wr�b��~\n",
      "��2\u0013�\u0007S��y�Q��9�aㅤ�_��\\��#\tk,\u0016.\u001b�1\u0002\u0002\u0003\u0015�3��z�\u0015\u0017�e�ǅ0[��\u0015��\u0013�\u0000��t6Rʶ��i[v[r����L�sa?��{��n�\u0000�\\WD��K,�1!w�2\u0001\u0003������4�\\Oa!a�]J�Cة�A�\u0014^\\f �\u0019�2'U�\u0000hzT�k������e�b�O,�-4�&�^K;�HR�Rd��T�ۆ\u000eA\\\u0001�x�A�\u0005@պӴ۴�\t~��\u001c��.\u000f�\u000b\u0004����1�5\u000b(���\u001b�\u0018�\u0013��Xv��\u0015��2�64g��RC�9\u001b���=\u000fq���s����\u001aa���'��\u0007��*���;qs�ȴ�\u001a���Z�\u0015�SE\u0012,��Ȭ\u0006��f��8\u0019\u0003>��\u0012q�+.�\u000b<�X�g��\u0000��X�|\u001aS��i�V��MӖ�C���\u000b�W�!�R\u001aw�%赕.n\"�Z\u000b�i\u0014����\u0004(��F��\u0002\u0006k������\u001f�[�3}�#K)-�ԍ��+�6��s\u0000[q\u0016C�\u0000m#\u0018\u001d��G_�1,\u0011��\n",
      "NG�͑�\u0000ꤱ�T��\u0017\u001a�F\u0015b�BA��\u000f�j�\"�Q\u0005l�\u0007\u0001� \u0003��S�\"6�[\u0007�\u000eI\u001f�q}f}���\u000b��]!\u0006ɧ���5�ך1�\n",
      "����\u0006GZߴѴ�\f[[�#-��y�i�W�¨\f�� *��\u0001@\u001d)�xgG�U��xg7\u001eb���2ym\"�U��ݱ�\u0000\u0000b\t�z\f{N�d�Ѣv,��8��\u001c9|�i\u001d�7\u0003���~\u0014�Y�\"[��%s�\u0010��=}*���;�vuBK\u0002ҁ�I'�}MC-�\u0010�뉙�\u001ep���\u0000/�i9�+I�4�=\u0012�����k �bQ���\u001c��֨XG\fдl�\u0003\u001b�\u0001�X�~~��.�g\u001fݵ��F?���iW_�;u�-2\u0012�?4����\u000b�j\u001e&�~�;)嘩�\u0007�~gA���������.�\u0012�\u001c�� Hz��\\d�ܒ�\u0010e��»�&ݟʧ�X� �Fd�T\u000e7[\u0005�\u0000�EO�����n�|BZ��gk�c\u0018\u0018��U��b�]���FH_b�rO�j����\u001fB��j\t����K{hJvt��x�\u0016�4}r���\u000b'�=��������\u0013�\u0010��\u0001$�_Ϋ�<7\u0012J�ܠE!�\t$�k����$\u0012�ҷ�\u0007?�\u0015^�]��Uy-��/�m�nwJ_\\����د��Q��\u000b��1q.\u0015Ps���t�O\u0016��{\u0014��|�`W���2g'�!?*b���\u0012N�nI����\u0000㕕�_˨�vW�Ԣ[�܋.��錀8�x�R�I�TʱqO����^[��*\\g�&3\u0004`.r��\u0007�ƺ++��Ƃ\t�DPp\u0001���\u0013S�k���K9���,�yN��7Z�a���O�Mw\u000bw�\u0013����\u0007�F\u0012�\u00154�G5,\u0006*\u0010JT��n���\t��\u0002�|U}\u001f�;@���-�ma��r�\u001dq�3��֡�_�V2�\\j\u0013�d\u00112\u001f��\u001f�r���j7���ŰI��\u0012�a�\u0013��\u0019\u0003-�\u0007�\u0003<�J���5\u0017vz9~]RU�*�i'��.�\u0015���\u001d����I而�.k~+�x�D2mڠr�:�=J[F�\\�Kk��0\t�\u001c��\u000e�\u0010G'\u001bON��\u0012�<)42$��\f�����\u001e�XY'M.�Y�)G\u0011)��_�V����\u0015Y�?�\u0004�Ì\u0002j��\u001b}�S�5\u001dʃq\u0007�'��O�Ӟ�ݾ�\u0011\u001f�\n",
      "�l\u001c\u0017)���g�\u00075a-�RH\fr�~g-���׾Y��i�\"c�ȕ�\u0003��D�>��\u000b᫃\u0001��� ���\u0016\u000f��[\u001f�teD�R$��ER\u00178\u00079��ҧ�n���\u0011\\��Q�����b����\u00120��7�<K+Ows\u001b���\u0004�\u0000�\u0002��\u001e���?�\u001f\u0004�t3\u000f4�ųU���[\u000f��\u0012ɶ=��}ͅı_\\�\u001dƊf���.m�\tv@�\"���d1$\u0010@�0:�V�^�4�\u000b��s��kV2Y��,7\"�.%\u0011��H��6�l0��@�r������ֱj\u0001�-�F�3�Ȳ\u0016�H���m�\u001a���O�\u001cH��\u0010\u000f���}x�3T��<7�x�K=V���;M\u001e/�\\�J��$�#9;@;U�����Rx�R�4f�F�g���5���Ž���e��Y�\u001a6e\u00000*��<��ڱ�Ss�*3�\u0017(�ܼ��N�������\"DH�9\u001b�\u0019�\u0000\u0004��'��Շ�D?<Y\u001dC!�#ְu�FO\u0016xM\u001bZզky��L�&��< \u0003?w\u0000}�=�~��f,w�y��\u001c�}k˫N\u0011�m�g\u0014�\u0014���H\u0003*���\u001f����U�\u000b�-�,C\u0002�#<�����+\u001a�V]E#U\u0018i#\u0007\u001d�A?�ojN�-ѐ\u001f0:�8<.�<v�Z�îl\\\u0017d��v�\u0015�I�i���w5�aP����\u0019�urH�#f\u0017s\u0002\u0014�|���Q�\n",
      "i����]�.bNG\u001f�ן%��'��\u0000�\u000b\u0015�SiM��K+[a�]\u0013\f\u000f�)*\tR\u0001���l��-$�]o�0\u0004`��\u0000�V?��i�k��R��6�\u0019$�t��Gs&�ff�\t\u0007�;Et`��p|��V\u001b1�r��?��/�7y\u0013n����!�\u0016��3�x���.-Z/2h�<�b\u001c�n@>��=(\u0013fp+tҧ��s\u0013�ܼ;�a�\u0002�K�ج�e��$~ѽ�.~��K\u001b]\u000b��kS\u0019\u0000�3I�d\u000f���S�xT�c��ɕ��\u0007_�\u0007��W?3d*�[6f�Z~�$���Q@6|�\u001a��rr8�-cj\u000bC���ǚ۾����@�W�}A\u0004w\u0019\u001d$�{\u0010\u0000?���\n",
      "�J\u0015;I��Ӧ+�\u000b*�f!T\f�{W/�\u0019n�[�d�0|�]>R�\u0015�\u0004\u001e��\u0007����\"��\u0004wa�LDkEԛ徺-��ف������XH��-��@�r3��2ّ�3\u0015��Kq�\u000f͞�w\u0018�\u0019=2@�x�3r�\u000b&3��\u001eRŸ����\u000f����Z��,�,%�q<�2�|�</\u001cw�=϶+�Z3ѭ�T��۫(�M��껲�E���%\u001a�I�~��\u001f�k\u001fҜo�x\u0017-s�A�e���\u0000}���X�MJ6$�\u0014e�=��$w\u001fjI$�2�\u0013��s�{z׭�[m7��ک�t��_��j/c��G&��^�4Clmwem3 �@Jd~\u0015�\u0006�w\u0005�\\�\u0015��c0�6���\\ �A\n",
      "\n",
      "?O���1��\u0002�\u000b\u001c�J�O\u0003��\u0002�.�4�\u0005\u0010�\f��_�K⠾_���Ӥ��K���;�C\u001d��r�X�B`z�\u001c�\u001c�\u000f�M��i�v�&�k�m&��pE�0�D�#\u0007�l�9���G�\u001a�Q�(\u0019\u0018�I��\u0018�9����|7d�F�wy\u0012�$���\u000f������-����R���zm^�-.��VV���xj\u001b\u0018%�E2EI\u0010n�X)�/��\u0011�G��j�\u0006��K\u000b\n",
      "\u001e\u0000��̣�U}\u0003RG\n",
      "\u001a\u0016��i?v?B՝E���_q�L6Y[���z\u0010�qk3�\u0006��Efd�0��Xa����q��S[m��6r���EGq��P�%���\u001e�(o\n",
      "�&�}\u001aᴫ�T�\u0017\u001f�6�YR�oz,�KB��/��9���w�Q�\u0006\u0000,���¶��[\u0006y\u0015e/#�y\u001dră�b�m.mGN�K���o���\n",
      "$�7\u0002I#Ϯ\u000f\u001fқw\u0010[y3\u001ao��\u000e\u0010.�x��-���YR�9�I\u0019iw6\u0007lv��VCr��p��\u001bd\"�m��>�˚~�w4�ܪc�ݣ\u001f�jk��U�\u000eG�n�}E4�\u0019^�'hD��fL�h���g��J?v���\u0000p����5�\u0018�bŇϴ�\u0003�\u001dQY�\u0003)R�\u0015É|�\u0014��U��I\u0015�gK)\u0019��%m�����Et�4��`�\u0013+G��\u0019X0 9\u0000�8#��<<���zt���FU'���ֺ?��b�eFF��ma��w\u0003��\u0007�\u001a唢��*�Hټ���YS�\u0000B\u0007�U��z\u0018���\u0001��\u001228R�<�2��������u�u�nU����hWf�v;�8$\u0000�*\u0013��r���\u001c+\u0002\u0015�?Q�\u0015q&�k���썸<\u0010I\u001d�\f�Ӝ��Y96C�\u001c����\u0000����\u0000������u[��\u0015*�%���\u0014˕\n",
      "'&5�8R�!\u001a4U+�᷍Y\"rY�����\u0000:e��X�\u001a{��(��sT��$�]y��]\\�V��8\u0018\u0000\u0013���8�8�\u0002�$-\u00030f��?�!�>9m�i��&V\u0000\u0001\u0012uns��t��U�\u0000ʥ�J��:�\f�\u0000*�j�,�\u000f��*0˃���i�Q+\\@��j~f�L�����\u0001T�{\u0010{��mb8\u0003\u0007���R���[����J�*��%'�I�<\u0012q����~}��Z��\u0005{{e\n",
      ">\u0010\u0011|�ز\u0010ێY�I8$��rkYIEYnlݶ4�-�Yh:,\u001an�n-��\\G\u001erT{�ԞI>�ի�X�YK(h�7'�C�f���è\\�qj1Ϋ\u0018��\u0006\u0018�$\u000eG��ߵO,1�h`���M�XrA����n䍻o;�x�a�]��\u0017��ԏ��Ks<rZH�ʒ�Wfrw\u000fA��l�k�UK�]�򲪐�\u001d2s�=��Q�>H�\u0015�e\u0007\u0003�x'�O����� l\u0015\u000e�\"\u000fPT�~���U\u0018Z)��\u0018eB� |g��h\u0001��'\u001c����GZ���m��I��E��#,��\u0003�'\u001f�S��G|؈ɿ�PO\u0019�q���\u0000����%xb}RS�蚫i~ ��d��9\u000e�#*I��'\u0007\u001dO>�\u000eg+#X��r��$����CJ��-%�]F���\u000f��n_�X�ڤ��@�\u001b{�\u0017��\u0017\u001a��/���4�[Kg��sM�M�\t�\f��~�\tpH�r\u000e02�\u0014�Im�M��R[j\u001a\u0001��֭i{$��eU�\u0000]o 빱�\u0003�d���t\n",
      "\"�&��#<\u001a��4�]Z�Ct�Y2Q���pJ��%T�\u0004\u00021YfG�����k9�㹷!�M܎%h�.\u000e�����;J���\u0000�u3'�w�W\u0011���'/\u0011\u0000\u001fPs�+��)��j��ڔ��e�y=��ϗfҦ�K�#\u001f(��o���i����X`09�\u001e�J�5���s,w�\u0012\u0017l�\\��=j�h���\u0013/\u001c�F�\u000bv>��7_����L�T�\u001cuek���\u0002���\u0010>��ڭZ�1\\�B\f��n#�E9ǩ$\u001e�E���;�kfX�}��=0}*k\u001b\t�茦\u0005\u000f\u0011d�w�u\u0004q֔']�)D#*�٣KU��-�D7�1�{`�~\u0014i\u0011K\u001c24�U�����*��q\u0017�.�&�\u001b��� ���ךt�rD\u0014,6��p\u0002oOǃ�\u0015���\u001a�>�\u0010G�-S�VY\u0019�{26\u0007��ٸ���ݕ�QF�L.w\u001cw��__�5f;h���s��Bw�RJ0<�_�%��ik\u0019�\f[�6�0�O|��k�\t�n_�_�5z�@л�����/���\t�\u0007q�Jyx�b\u001b�Dk�\f��\u0000\u001cT�\fađ���~S�t�\\�<y�[�+�\u001fQ�]�\u0018\u001e\"�������PX�\u0003ˏr����]\u0011FY9,2H�j��\u0005���ʲ�&2�<�8-м)\u0013\"�_|�I\n",
      "SV���\u0010�^kDK�u��15��J�.c+��\t�F\u000f�\u0015O�q�Zh���][�b�w.�tlr��;\u0014��ou\\d|�\u0002A5\u001ahVCW�n�{�xm���-\u001d�!�ϖ��IUx8��~�c&���<�/\"��\u0019��-o��D�\n",
      "Ћ�\u0004�Y���J�p3�~KJ%�\u0002��^[5ݞ���M,�$GK�+��;�;t�ǻ���`�rpj\u0016D��\u0017��\\qY��b/o��\u000b��Vhd�g܀��RA \fpE�R�N�,�5=LF�Z��}���\u0013��i\u0004��\u0000��#(�0påWеm<ˠi�\u0017\u0012�,.��]mQ\u0013&��!a�7�\u0016P��l$c�Wb�\u0012\u000b����>�n�D{�.R}@Cnme��[���j�Ƙa��\u001c��(b�\u001a{M6�YU�}O̓��\u0014K=�Z�yl�\u0019\u001dLۀ�'��\u001cK�J�^\u001e�m��CP�����M���v4�g�I�òeuFP�Cd\f\u001crk�\u001a=����u\u001b�k=*���U��K{,�X���Ŷ�\u000b\u0011��78ah������Y\u001fP_;̒�Yۺ��a���ҬYyv\u0001\n",
      "s�czlʲ�Y�*�Dv\u001d��O�\u001d\u000f�I�j\u0016���\u0014R Y%\"1�����Q�0jJ�.mn�5�so\u0003:�v�G�����_�s�iX�,�h������3�\u0000֢��=���s����\"Is$���Ą\u0011�|���m���E\u0001�h�\u000b�����\\�\u0017-��ʀ\u00120�q��g��/��T0�\t\u001c�E�����\u0019\u0004�\u0000��@����%�}�ʑ�6\fL�\u00037\u0012��S��9����x�\u0018�jY�՘��I��,^#ٮU�1�W�YnEu��!@\u00141\u0003\u0003�\u000f�ͫw�~�{`/����{�9FP�:����\u0000\u000exx�j�{B\fuHB9C�\u0019\u001dEv>Lݮ��U¹\u000f\u000f���\u0013;\u0005PrI8\u0002�\u0015��o�q\u0011�8�����|�#��/ܢ\u0018A\u00163�9;����ҁ�g�?��M�x\u0011慘6_!W�$\u0011���7/f��\u0015��K\u001f��==��C���]��\u001fʫA&��<��J�|�UFT��5:ګ̓�\u0019՗��Ǩ8������\u0000V{igey����h����S��O* ����LrjCU�O�v2 #�\u0016�9�]B�H�\u0016C� �0{����Kq\u0011\u0000l\u001bW��\u0002�\\\u001f�E���\u0000dc�+\u001fC�4��\u0000�\u0001\u001f1`1��\\q�\u0000{��W�Ϳ�٬����\u001c�\u0011c�\u0013�?\u000e���I�$�M�\u001b\u001d3�������yX\u0007�v�i�\u0003���5[U�9,��)�D;�v`>�\u001d���ºfڋks\u00196�h��\n"
     ]
    }
   ],
   "source": [
    "test_url = generate_map_url(52.5166556, 13.5439569000)  # Example: New York City\n",
    "print(f\"Testing URL: {test_url}\")\n",
    "response = requests.get(test_url)\n",
    "print(f\"Status: {response.status_code}, Response: {response.text}\")"
   ]
  },
  {
   "cell_type": "code",
   "execution_count": null,
   "id": "23efae62",
   "metadata": {},
   "outputs": [],
   "source": []
  }
 ],
 "metadata": {
  "kernelspec": {
   "display_name": "Python 3",
   "language": "python",
   "name": "python3"
  },
  "language_info": {
   "codemirror_mode": {
    "name": "ipython",
    "version": 3
   },
   "file_extension": ".py",
   "mimetype": "text/x-python",
   "name": "python",
   "nbconvert_exporter": "python",
   "pygments_lexer": "ipython3",
   "version": "3.13.2"
  }
 },
 "nbformat": 4,
 "nbformat_minor": 5
}
